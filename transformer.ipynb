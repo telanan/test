{
  "nbformat": 4,
  "nbformat_minor": 0,
  "metadata": {
    "colab": {
      "provenance": [],
      "authorship_tag": "ABX9TyPglOzF41z2khLS31sfylEs",
      "include_colab_link": true
    },
    "kernelspec": {
      "name": "python3",
      "display_name": "Python 3"
    },
    "language_info": {
      "name": "python"
    }
  },
  "cells": [
    {
      "cell_type": "markdown",
      "metadata": {
        "id": "view-in-github",
        "colab_type": "text"
      },
      "source": [
        "<a href=\"https://colab.research.google.com/github/telanan/test/blob/master/transformer.ipynb\" target=\"_parent\"><img src=\"https://colab.research.google.com/assets/colab-badge.svg\" alt=\"Open In Colab\"/></a>"
      ]
    },
    {
      "cell_type": "code",
      "execution_count": 1,
      "metadata": {
        "id": "Cu0PajRst22z"
      },
      "outputs": [],
      "source": [
        "import torch\n",
        "from torch import nn\n",
        "import torch.nn.functional as F\n",
        "import math"
      ]
    },
    {
      "cell_type": "code",
      "source": [
        "random_torch=torch.rand(4,4)\n",
        "print(random_torch)"
      ],
      "metadata": {
        "colab": {
          "base_uri": "https://localhost:8080/"
        },
        "id": "YHTErkhZwaeW",
        "outputId": "c236157d-ddc1-4b70-b67b-ec7f47681cb8"
      },
      "execution_count": 2,
      "outputs": [
        {
          "output_type": "stream",
          "name": "stdout",
          "text": [
            "tensor([[0.6738, 0.5451, 0.0017, 0.2785],\n",
            "        [0.6992, 0.3364, 0.8491, 0.5756],\n",
            "        [0.9297, 0.9176, 0.3056, 0.1768],\n",
            "        [0.6977, 0.0268, 0.2305, 0.4321]])\n"
          ]
        }
      ]
    },
    {
      "cell_type": "code",
      "source": [
        "class TokenEmbedding(nn.Embedding):\n",
        "    def __init__(self,vocab_size,d_model):\n",
        "        super().__init__(vocab_size,d_model,padding_idx=1)"
      ],
      "metadata": {
        "id": "0GCUD21kwhBr"
      },
      "execution_count": 3,
      "outputs": []
    },
    {
      "cell_type": "code",
      "source": [
        "class PositionalEncoding(nn.Module):\n",
        "    def __init__(self,d_model,max_len,device):\n",
        "        super(PositionalEncoding,self).__init__()\n",
        "        self.encoding=torch.zeros(max_len,d_model,device=device)\n",
        "        self.encoding.requires_grad=False\n",
        "\n",
        "        pos=torch.arange(0,max_len,device=device)\n",
        "        pos=pos.float().unsqueeze(dim=1)\n",
        "        _2i=torch.arange(0,d_model,step=2,device=device).float()\n",
        "        self.encoding[:,0::2]=torch.sin(pos/10000**(_2i/d_model))\n",
        "        self.encoding[:,1::2]=torch.cos(pos/10000**(_2i/d_model))\n",
        "\n",
        "    def forward(self,x):\n",
        "        batch_size,seq_len=x.size()\n",
        "        return self.encoding[:seq_len,:]"
      ],
      "metadata": {
        "id": "IeFQWUOYxbA7"
      },
      "execution_count": 6,
      "outputs": []
    },
    {
      "cell_type": "code",
      "source": [
        "class TransformerEmbedding(nn.Module):\n",
        "    def __init__(self,vocab_size,d_model,max_len,drop_prob,device):\n",
        "        super(TransformerEmbedding,self).__init__()\n",
        "        self.tok_emb = TokenEmbedding(vocab_size, d_model)\n",
        "        self.pos_emb = PositionalEncoding(d_model, max_len, device)\n",
        "        self.drop_out = nn.Dropout(p=drop_prob)\n",
        "    def forward(self,x):\n",
        "        tok_emb=self.tok_emb(x)\n",
        "        pos_emb=self.pos_emb(x)\n",
        "        return self.drop_out(tok_emb+pos_emb)"
      ],
      "metadata": {
        "id": "EO37AI_cQSj9"
      },
      "execution_count": 7,
      "outputs": []
    },
    {
      "cell_type": "code",
      "source": [
        "x=torch.rand(128,32,512)\n",
        "d_model=512\n",
        "n_head=8"
      ],
      "metadata": {
        "id": "2MWLxw29ZCX7"
      },
      "execution_count": 9,
      "outputs": []
    },
    {
      "cell_type": "code",
      "source": [
        "class MutilHeadAttention(nn.Module):\n",
        "    def __init__(self,d_model,n_head):\n",
        "        super(MutilHeadAttention,self).__init__()\n",
        "        self.d_model=d_model\n",
        "        self.n_head=n_head\n",
        "        self.w_q=nn.Linear(d_model,d_model)\n",
        "        self.w_k=nn.Linear(d_model,d_model)\n",
        "        self.w_v=nn.Linear(d_model,d_model)\n",
        "        self.w_combine=nn.Linear(d_model,d_model)\n",
        "        self.softmax=nn.Softmax(dim=-1)\n",
        "    def forward(self,q,k,v,mask=None):\n",
        "        batch,time,dimension=q.shape\n",
        "        q=self.w_q(q)\n",
        "        k=self.w_k(k)\n",
        "        v=self.w_v(v)\n",
        "        n_d=self.d_model//self.n_head\n",
        "        q=q.view(batch,time,self.n_head,n_d).permute(0,2,1,3)\n",
        "        k=k.view(batch,time,self.n_head,n_d).permute(0,2,1,3)\n",
        "        v=v.view(batch,time,self.n_head,n_d).permute(0,2,1,3)\n",
        "        score=torch.matmul(q,k.permute(0,1,3,2))/math.sqrt(n_d)\n",
        "        if mask is not None:\n",
        "            score=score.masked_fill(mask==0,-1e9)\n",
        "        score=self.softmax(score)@v\n",
        "        score=score.permute(0,2,1,3).contiguous().view(batch,time,dimension)\n",
        "        output=self.w_combine(score)\n",
        "        return output\n",
        "\n",
        "attention=MutilHeadAttention(d_model,n_head)\n",
        "output=attention(x,x,x)\n",
        "print(output.shape)"
      ],
      "metadata": {
        "colab": {
          "base_uri": "https://localhost:8080/"
        },
        "id": "Oxfu-7f2UsAu",
        "outputId": "4acd0c2f-ae5e-43bb-ebe2-5985bf626d6e"
      },
      "execution_count": 12,
      "outputs": [
        {
          "output_type": "stream",
          "name": "stdout",
          "text": [
            "torch.Size([128, 32, 512])\n"
          ]
        }
      ]
    },
    {
      "cell_type": "code",
      "source": [
        "class LayerNorm(nn.Module):\n",
        "    def __init__(self,d_model,eps=1e-12):\n",
        "        super(LayerNorm,self).__init__()\n",
        "        self.gamma=nn.Parameter(torch.ones(d_model))\n",
        "        self.beta=nn.Parameter(torch.zeros(d_model))\n",
        "        self.eps=eps\n",
        "    def forward(self,x):\n",
        "        mean=x.mean(-1,keepdim=True)\n",
        "        std=x.std(-1,keepdim=True)\n",
        "        return self.gamma*(x-mean)/(std+self.eps)+self.beta"
      ],
      "metadata": {
        "id": "mGv3_wgXcuPD"
      },
      "execution_count": 13,
      "outputs": []
    },
    {
      "cell_type": "code",
      "source": [
        "class PositionwiseFeedForward(nn.Module):\n",
        "    def __init__(self,d_model,hidden,drop_prob=0.1):\n",
        "        super(PositionwiseFeedForward,self).__init__()\n",
        "        self.linear1=nn.Linear(d_model,hidden)\n",
        "        self.linear2=nn.Linear(hidden,d_model)\n",
        "        self.drop_out=nn.Dropout(p=drop_prob)\n",
        "    def forward(self,x):\n",
        "        x=self.linear1(x)\n",
        "        x=F.relu(x)\n",
        "        x=self.drop_out(x)\n",
        "        x=self.linear2(x)\n",
        "        return x"
      ],
      "metadata": {
        "id": "6BpsNxOYkA2J"
      },
      "execution_count": 14,
      "outputs": []
    },
    {
      "cell_type": "code",
      "source": [
        "class EncoderLayer(nn.Module):\n",
        "    def __init__(self,d_model,ffn_hidden,n_head,drop_prob):\n",
        "        super(EncoderLayer,self).__init__()\n",
        "        self.attention=MutilHeadAttention(d_model,n_head)\n",
        "        self.norm1=LayerNorm(d_model)\n",
        "        self.dropout1=nn.Dropout(p=drop_prob)\n",
        "        self.ffn=PositionwiseFeedForward(d_model,ffn_hidden,drop_prob)\n",
        "        self.norm2=LayerNorm(d_model)\n",
        "        self.dropout2=nn.Dropout(p=drop_prob)\n",
        "    def forward(self,x,mask):\n",
        "        _x=x\n",
        "        x=self.attention(x,x,x,mask)\n",
        "        x=self.dropout1(x)\n",
        "        x=self.norm1(x+_x)\n",
        "        _x=x\n",
        "        x=self.ffn(x)\n",
        "        x=self.dropout2(x)\n",
        "        x=self.norm2(x+_x)\n",
        "        return x"
      ],
      "metadata": {
        "id": "dpDUNTxgl9Nn"
      },
      "execution_count": 17,
      "outputs": []
    },
    {
      "cell_type": "code",
      "source": [
        "class Encoder(nn.Module):\n",
        "    def __init__(self,enc_voc_size,d_model,max_len,ffn_hidden,n_head,n_layer,drop_prob,device):\n",
        "        super(Encoder,self).__init__()\n",
        "        self.embedding=TransformerEmbedding(enc_voc_size,d_model,max_len,drop_prob,device)\n",
        "        self.layers=nn.ModuleList([EncoderLayer(d_model,ffn_hidden,n_head,drop_prob) for _ in range(n_layer)])\n",
        "    def forward(self,x,s_mask):\n",
        "        x=self.embedding(x)\n",
        "        for layer in self.layers:\n",
        "            x=layer(x,s_mask)\n",
        "        return x"
      ],
      "metadata": {
        "id": "xw2py9IqmklJ"
      },
      "execution_count": 19,
      "outputs": []
    },
    {
      "cell_type": "code",
      "source": [
        "class DecoderLayer(nn.Module):\n",
        "    def __init__(self,d_model,ffn_hidden,n_head,drop_prob):\n",
        "        super(DecoderLayer,self).__init__()\n",
        "        self.attention1=MutilHeadAttention(d_model,n_head)\n",
        "        self.norm1=LayerNorm(d_model)\n",
        "        self.dropout1=nn.Dropout(p=drop_prob)\n",
        "        self.cross_attention=MutilHeadAttention(d_model,n_head)\n",
        "        self.norm2=LayerNorm(d_model)\n",
        "        self.dropout2=nn.Dropout(p=drop_prob)\n",
        "        self.ffn=PositionwiseFeedForward(d_model,ffn_hidden,drop_prob)\n",
        "        self.norm3=LayerNorm(d_model)\n",
        "        self.dropout3=nn.Dropout(p=drop_prob)\n",
        "    def forward(self,dec,enc_out,s_mask,t_mask):\n",
        "        _x=dec\n",
        "        x=self.attention1(dec,dec,dec,t_mask)\n",
        "        x=self.dropout1(x)\n",
        "        x=self.norm1(x+_x)\n",
        "        _x=x\n",
        "        x=self.cross_attention(x,enc_out,enc_out,s_mask)\n",
        "        x=self.dropout2(x)\n",
        "        x=self.norm2(x+_x)\n",
        "        _x=x # Added to match encoder layer structure\n",
        "        x=self.ffn(x)\n",
        "        x=self.dropout3(x) # Changed to dropout3\n",
        "        x=self.norm3(x+_x) # Changed to norm3\n",
        "        return x"
      ],
      "metadata": {
        "id": "Tg29hkodsHru"
      },
      "execution_count": 20,
      "outputs": []
    },
    {
      "cell_type": "code",
      "source": [
        "class Decoder(nn.Module):\n",
        "    def __init__(self,dec_voc_size,d_model,max_len,ffn_hidden,n_head,n_layer,drop_prob,device):\n",
        "        super(Decoder,self).__init__()\n",
        "        self.embedding=TransformerEmbedding(dec_voc_size,d_model,max_len,drop_prob,device)\n",
        "        self.layers=nn.ModuleList([DecoderLayer(d_model,ffn_hidden,n_head,drop_prob) for _ in range(n_layer)])\n",
        "        self.fc=nn.Linear(d_model,dec_voc_size)\n",
        "    def forward(self,dec,enc_out,s_mask,t_mask):\n",
        "        dec=self.embedding(dec) # Applied embedding to dec\n",
        "        for layer in self.layers:\n",
        "            dec=layer(dec,enc_out,s_mask,t_mask)\n",
        "        dec=self.fc(dec)\n",
        "        return dec"
      ],
      "metadata": {
        "id": "86tejQtHw4el"
      },
      "execution_count": 21,
      "outputs": []
    },
    {
      "cell_type": "code",
      "source": [
        "class Transformer(nn.Module):\n",
        "    def __init__(self,src_pad_idx,trg_pad_idx,enc_voc_size,dec_voc_size,\n",
        "                 d_model,max_len,n_head,ffn_hidden,n_layer,drop_out,device):\n",
        "        super(Transformer,self).__init__()\n",
        "        self.encoder=Encoder(enc_voc_size,d_model,max_len,ffn_hidden,n_head,n_layer,drop_out,device)\n",
        "        self.decoder=Decoder(dec_voc_size,d_model,max_len,ffn_hidden,n_head,n_layer,drop_out,device)\n",
        "        self.src_pad_idx=src_pad_idx\n",
        "        self.trg_pad_idx=trg_pad_idx\n",
        "        self.device=device\n",
        "    def make_pad_mask(self,q,k,pad_idx_q,pad_idx_k):\n",
        "        q_len=q.shape[1]\n",
        "        k_len=k.shape[1]\n",
        "        q_pad_mask=q.eq(pad_idx_q).unsqueeze(1).unsqueeze(3)\n",
        "        q_pad_mask=q_pad_mask.repeat(1,1,1,k_len)\n",
        "        k_pad_mask=k.eq(pad_idx_k).unsqueeze(1).unsqueeze(2)\n",
        "        k_pad_mask=k_pad_mask.repeat(1,1,q_len,1)\n",
        "        mask=q_pad_mask&k_pad_mask\n",
        "        return mask\n",
        "    def make_casual_mask(self,q,k):\n",
        "        batch,q_len=q.shape\n",
        "        mask=torch.tril(torch.ones(q_len,q_len)).bool().to(self.device)\n",
        "        return mask\n",
        "    def forward(self,src,trg):\n",
        "        src_mask=self.make_pad_mask(src,src,self.src_pad_idx,self.src_pad_idx)\n",
        "        trg_mask=self.make_pad_mask(trg,trg,self.trg_pad_idx,self.trg_pad_idx)\n",
        "        trg_mask=trg_mask&self.make_casual_mask(trg,trg)\n",
        "        enc_src=self.encoder(src,src_mask)\n",
        "        output=self.decoder(trg,enc_src,src_mask,trg_mask)\n",
        "        return output"
      ],
      "metadata": {
        "id": "tKrAc3pmyg-H"
      },
      "execution_count": 23,
      "outputs": []
    },
    {
      "cell_type": "code",
      "source": [],
      "metadata": {
        "id": "MXWgcjhj22KR"
      },
      "execution_count": null,
      "outputs": []
    }
  ]
}